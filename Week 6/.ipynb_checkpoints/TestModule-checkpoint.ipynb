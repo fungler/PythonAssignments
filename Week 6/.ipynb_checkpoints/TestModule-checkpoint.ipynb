{
 "cells": [
  {
   "cell_type": "code",
   "execution_count": 8,
   "metadata": {},
   "outputs": [
    {
     "name": "stdout",
     "output_type": "stream",
     "text": [
      "<somemodule.SomeModule object at 0x0000012CEF490F88>\n"
     ]
    }
   ],
   "source": [
    "import somemodule\n",
    "\n",
    "\n",
    "sm = somemodule.SomeModule([\"https://www.gutenberg.org/files/1342/1342-0.txt\",\n",
    "                           \"https://www.gutenberg.org/files/84/84-0.txt\", \n",
    "                           \"https://www.gutenberg.org/cache/epub/25525/pg25525.txt\"])\n",
    "\n",
    "sm.download(\"https://www.gutenberg.org/files/46/46-0.txt\")\n",
    "\n",
    "sm.multi_download()"
   ]
  },
  {
   "cell_type": "code",
   "execution_count": null,
   "metadata": {},
   "outputs": [],
   "source": []
  },
  {
   "cell_type": "code",
   "execution_count": null,
   "metadata": {},
   "outputs": [],
   "source": []
  },
  {
   "cell_type": "code",
   "execution_count": null,
   "metadata": {},
   "outputs": [],
   "source": []
  }
 ],
 "metadata": {
  "kernelspec": {
   "display_name": "Python 3",
   "language": "python",
   "name": "python3"
  },
  "language_info": {
   "codemirror_mode": {
    "name": "ipython",
    "version": 3
   },
   "file_extension": ".py",
   "mimetype": "text/x-python",
   "name": "python",
   "nbconvert_exporter": "python",
   "pygments_lexer": "ipython3",
   "version": "3.7.4"
  }
 },
 "nbformat": 4,
 "nbformat_minor": 2
}

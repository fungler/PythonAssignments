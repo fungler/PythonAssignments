{
 "cells": [
  {
   "cell_type": "code",
   "execution_count": 10,
   "metadata": {},
   "outputs": [
    {
     "data": {
      "text/plain": [
       "'#34'"
      ]
     },
     "execution_count": 10,
     "metadata": {},
     "output_type": "execute_result"
    }
   ],
   "source": [
    "from selenium import webdriver\n",
    "from time import sleep\n",
    "from selenium.webdriver.common.keys import Keys\n",
    "from selenium.webdriver.chrome.options import Options\n",
    "import requests\n",
    "from bs4 import BeautifulSoup\n",
    "import re\n",
    "\n",
    "link = \"https://www.hltv.org/\"\n",
    "\n",
    "co = Options()\n",
    "co.add_argument(\"--start-maximized\")\n",
    "\n",
    "wd = webdriver.Chrome(\"C:\\\\Users\\\\Martin\\\\Desktop\\\\FunglerPython\\\\Week 7\\\\chromedriver.exe\", options=co)\n",
    "wd.get(link)\n",
    "\n",
    "\n",
    "searchbar = wd.find_element_by_class_name(\"navsearchinput\")\n",
    "searchbar.send_keys(\"Copenhagen Flames\")\n",
    "searchbar.send_keys(Keys.ENTER)\n",
    "\n",
    "sleep(1)\n",
    "\n",
    "link = wd.find_element_by_link_text(\"Copenhagen Flames\")\n",
    "link.click()\n",
    "\n",
    "sleep(1)\n",
    "\n",
    "#browser.current_url\n",
    "response = requests.get(wd.current_url)\n",
    "soup = BeautifulSoup(response.content)\n",
    "\n",
    "Ranking = soup.find_all(\"div\", {\"class\": \"wrap\"})\n",
    "\n",
    "searchString = str(Ranking[0].find_all('span')[1])\n",
    "\n",
    "r = re.compile('<span class=\"value\">(.+?)</span>')\n",
    "r.findall(searchString)[0]\n"
   ]
  },
  {
   "cell_type": "code",
   "execution_count": null,
   "metadata": {},
   "outputs": [],
   "source": []
  }
 ],
 "metadata": {
  "kernelspec": {
   "display_name": "Python 3",
   "language": "python",
   "name": "python3"
  },
  "language_info": {
   "codemirror_mode": {
    "name": "ipython",
    "version": 3
   },
   "file_extension": ".py",
   "mimetype": "text/x-python",
   "name": "python",
   "nbconvert_exporter": "python",
   "pygments_lexer": "ipython3",
   "version": "3.7.4"
  }
 },
 "nbformat": 4,
 "nbformat_minor": 2
}

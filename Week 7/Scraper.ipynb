{
 "cells": [
  {
   "cell_type": "code",
   "execution_count": 13,
   "metadata": {},
   "outputs": [
    {
     "name": "stdout",
     "output_type": "stream",
     "text": [
      "1.\n",
      " Astralis\n",
      "2.\n",
      " Natus Vincere\n",
      "3.\n",
      " fnatic\n",
      "4.\n",
      " mousesports\n",
      "5.\n",
      " G2\n"
     ]
    }
   ],
   "source": [
    "from bs4 import BeautifulSoup\n",
    "import requests\n",
    "\n",
    "link = \"https://www.hltv.org/\"\n",
    "\n",
    "response = requests.get(link)\n",
    "soup = BeautifulSoup(response.content, \"html.parser\")\n",
    "\n",
    "rankbox = soup.find_all(\"div\", {\"class\": \"col-box rank\"})\n",
    "\n",
    "for divs in rankbox:\n",
    "    links = divs.find_all('a')\n",
    "    for a in links:\n",
    "        print(a.getText())\n"
   ]
  },
  {
   "cell_type": "code",
   "execution_count": null,
   "metadata": {},
   "outputs": [],
   "source": []
  }
 ],
 "metadata": {
  "kernelspec": {
   "display_name": "Python 3",
   "language": "python",
   "name": "python3"
  },
  "language_info": {
   "codemirror_mode": {
    "name": "ipython",
    "version": 3
   },
   "file_extension": ".py",
   "mimetype": "text/x-python",
   "name": "python",
   "nbconvert_exporter": "python",
   "pygments_lexer": "ipython3",
   "version": "3.7.4"
  }
 },
 "nbformat": 4,
 "nbformat_minor": 2
}

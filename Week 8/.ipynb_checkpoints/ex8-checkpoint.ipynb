{
 "cells": [
  {
   "cell_type": "code",
   "execution_count": 50,
   "metadata": {},
   "outputs": [
    {
     "data": {
      "text/plain": [
       "['£ 4',\n",
       " '£ 4',\n",
       " '£ 30',\n",
       " '£ 30,000',\n",
       " '£ 4',\n",
       " '£ 4700',\n",
       " '£ 60',\n",
       " '£ 14,000',\n",
       " '£ 1000',\n",
       " '£ 88',\n",
       " '£ 220',\n",
       " '£ 25',\n",
       " '£ 2',\n",
       " '£ 700',\n",
       " '£ 2',\n",
       " '£ 1000',\n",
       " '£ 100',\n",
       " '£ 1000',\n",
       " '£ 1,100',\n",
       " '£ 750',\n",
       " '£ 250',\n",
       " '£ 27',\n",
       " '£ 1000',\n",
       " '£ 200',\n",
       " '£ 1000',\n",
       " '£ 1000',\n",
       " '£ 4000',\n",
       " '£ 1000',\n",
       " '£ 1000',\n",
       " '£ 4',\n",
       " '£ 100',\n",
       " '£ 100',\n",
       " '£ 30',\n",
       " '£ 120',\n",
       " '£ 120',\n",
       " '£ 40']"
      ]
     },
     "execution_count": 50,
     "metadata": {},
     "output_type": "execute_result"
    }
   ],
   "source": [
    "import requests as rq\n",
    "import shutil as st\n",
    "import re\n",
    "\n",
    "sherlock_urls = ['http://www.gutenberg.org/files/1661/1661-0.txt','http://www.gutenberg.org/files/2852/2852-0.txt','http://www.gutenberg.org/files/244/244-0.txt','http://www.gutenberg.org/files/2097/2097-0.txt','http://www.gutenberg.org/files/834/834-0.txt','http://www.gutenberg.org/files/108/108-0.txt','http://www.gutenberg.org/files/3289/3289-0.txt','http://www.gutenberg.org/files/2350/2350-0.txt','http://www.gutenberg.org/files/221/221-0.txt','http://www.gutenberg.org/ebooks/2347.txt.utf-8','http://www.gutenberg.org/ebooks/2346.txt.utf-8','http://www.gutenberg.org/ebooks/2344.txt.utf-8','http://www.gutenberg.org/ebooks/2343.txt.utf-8']\n",
    "\n",
    "def download(url, filename):\n",
    "    with rq.get(url, stream=True) as r:\n",
    "        with open(filename, 'wb') as f:\n",
    "            st.copyfileobj(r.raw, f)\n",
    "    return filename\n",
    "download(sherlock_urls[0], \"download.txt\")\n",
    "\n",
    "\n",
    "textfile = open(\"download.txt\", 'r', encoding=\"utf-8\")\n",
    "filetext = textfile.read()\n",
    "textfile.close()\n",
    "\n",
    "#print(filetext)\n",
    "\n",
    "matches = re.findall(\"\\£\\ +\\d+(?:\\,\\d+)?\", filetext)\n",
    "matches\n",
    "\n"
   ]
  },
  {
   "cell_type": "code",
   "execution_count": 56,
   "metadata": {},
   "outputs": [
    {
     "name": "stdout",
     "output_type": "stream",
     "text": [
      "['£ 30,000', '£ 14,000', '£ 1,100']\n",
      "times specific amount is said: 3\n"
     ]
    }
   ],
   "source": [
    "specific = []\n",
    "\n",
    "for m in matches:\n",
    "    if \",\" in m:\n",
    "        specific.append(m)\n",
    "\n",
    "print(specific)\n",
    "print(\"times specific amount is said: \" + str(len(specific)))"
   ]
  },
  {
   "cell_type": "code",
   "execution_count": 80,
   "metadata": {},
   "outputs": [
    {
     "data": {
      "text/plain": [
       "[30000, 3]"
      ]
     },
     "execution_count": 80,
     "metadata": {},
     "output_type": "execute_result"
    }
   ],
   "source": [
    "def getHighest():\n",
    "    highest = 0\n",
    "    highest_idx = 0\n",
    "    \n",
    "    for idx, m in enumerate(matches):\n",
    "        curr = int(matches[idx][1:].replace(\",\", \"\"))\n",
    "        if (curr > highest):\n",
    "            highest = curr\n",
    "            highest_idx = idx\n",
    "            \n",
    "    return [highest, highest_idx]\n",
    "\n",
    "        \n",
    "getHighest()"
   ]
  },
  {
   "cell_type": "code",
   "execution_count": 87,
   "metadata": {},
   "outputs": [
    {
     "name": "stdout",
     "output_type": "stream",
     "text": [
      "£ £ 30,000\n"
     ]
    },
    {
     "data": {
      "text/plain": [
       "' Merryweather, the stake will be some £ 30,000; and for you, Jones, it will be the man upon whom you wish to lay your hands.'"
      ]
     },
     "execution_count": 87,
     "metadata": {},
     "output_type": "execute_result"
    }
   ],
   "source": [
    "print('£ ' + matches[getHighest()[1]])\n",
    "s = [sentence + '.' for sentence in filetext.split('.') if matches[getHighest()[1]] in sentence][0].replace(\"\\n\", \" \")\n",
    "s"
   ]
  },
  {
   "cell_type": "code",
   "execution_count": null,
   "metadata": {},
   "outputs": [],
   "source": []
  }
 ],
 "metadata": {
  "kernelspec": {
   "display_name": "Python 3",
   "language": "python",
   "name": "python3"
  },
  "language_info": {
   "codemirror_mode": {
    "name": "ipython",
    "version": 3
   },
   "file_extension": ".py",
   "mimetype": "text/x-python",
   "name": "python",
   "nbconvert_exporter": "python",
   "pygments_lexer": "ipython3",
   "version": "3.7.4"
  }
 },
 "nbformat": 4,
 "nbformat_minor": 2
}

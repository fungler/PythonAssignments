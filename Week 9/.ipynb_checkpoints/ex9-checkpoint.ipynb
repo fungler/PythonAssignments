{
 "cells": [
  {
   "cell_type": "code",
   "execution_count": 1,
   "metadata": {},
   "outputs": [
    {
     "data": {
      "text/plain": [
       "[('5.199.130.188', '5', '199', '130', '188'),\n",
       " ('162.247.74.217', '162', '247', '74', '217'),\n",
       " ('50.35.73.6', '50', '35', '73', '6'),\n",
       " ('89.163.239.216', '89', '163', '239', '216'),\n",
       " ('108.87.82.181', '108', '87', '82', '181'),\n",
       " ('216.151.180.191', '216', '151', '180', '191'),\n",
       " ('139.99.172.11', '139', '99', '172', '11'),\n",
       " ('217.170.205.107', '217', '170', '205', '107'),\n",
       " ('68.184.5.12', '68', '184', '5', '12'),\n",
       " ('185.107.47.171', '185', '107', '47', '171'),\n",
       " ('185.220.101.57', '185', '220', '101', '57'),\n",
       " ('185.220.102.4', '185', '220', '102', '4'),\n",
       " ('193.218.118.90', '193', '218', '118', '90'),\n",
       " ('199.249.230.69', '199', '249', '230', '69'),\n",
       " ('199.249.230.123', '199', '249', '230', '123'),\n",
       " ('185.220.101.25', '185', '220', '101', '25'),\n",
       " ('209.141.34.95', '209', '141', '34', '95'),\n",
       " ('213.179.54.190', '213', '179', '54', '190'),\n",
       " ('174.130.215.196', '174', '130', '215', '196'),\n",
       " ('185.220.101.6', '185', '220', '101', '6'),\n",
       " ('68.184.5.12', '68', '184', '5', '12'),\n",
       " ('199.249.230.69', '199', '249', '230', '69'),\n",
       " ('89.163.239.216', '89', '163', '239', '216')]"
      ]
     },
     "execution_count": 1,
     "metadata": {},
     "output_type": "execute_result"
    }
   ],
   "source": [
    "import requests\n",
    "import re\n",
    "from bs4 import BeautifulSoup\n",
    "import pymysql\n",
    "\n",
    "with open('ips.log', 'r') as fo:\n",
    "    log = fo.read()\n",
    "\n",
    "pattern = re.compile(r\";((\\d{1,3}).(\\d{1,3}).(\\d{1,3}).(\\d{1,3}));\")\n",
    "ips = pattern.findall(log)\n",
    "\n",
    "ips"
   ]
  },
  {
   "cell_type": "code",
   "execution_count": 6,
   "metadata": {},
   "outputs": [
    {
     "ename": "AttributeError",
     "evalue": "'list' object has no attribute 'strip'",
     "output_type": "error",
     "traceback": [
      "\u001b[1;31m---------------------------------------------------------------------------\u001b[0m",
      "\u001b[1;31mAttributeError\u001b[0m                            Traceback (most recent call last)",
      "\u001b[1;32m<ipython-input-6-8ee58c7ef4cf>\u001b[0m in \u001b[0;36m<module>\u001b[1;34m\u001b[0m\n\u001b[0;32m     14\u001b[0m     \u001b[1;32mfor\u001b[0m \u001b[0mtag\u001b[0m \u001b[1;32min\u001b[0m \u001b[0mfind\u001b[0m\u001b[1;33m:\u001b[0m\u001b[1;33m\u001b[0m\u001b[1;33m\u001b[0m\u001b[0m\n\u001b[0;32m     15\u001b[0m         \u001b[1;32mif\u001b[0m \u001b[0mtag\u001b[0m \u001b[1;32min\u001b[0m \u001b[0mline\u001b[0m\u001b[1;33m:\u001b[0m\u001b[1;33m\u001b[0m\u001b[1;33m\u001b[0m\u001b[0m\n\u001b[1;32m---> 16\u001b[1;33m             \u001b[0mx\u001b[0m \u001b[1;33m=\u001b[0m \u001b[0mline\u001b[0m\u001b[1;33m.\u001b[0m\u001b[0msplit\u001b[0m\u001b[1;33m(\u001b[0m\u001b[1;34m\":\"\u001b[0m\u001b[1;33m)\u001b[0m\u001b[1;33m.\u001b[0m\u001b[0mstrip\u001b[0m\u001b[1;33m(\u001b[0m\u001b[1;33m)\u001b[0m\u001b[1;33m\u001b[0m\u001b[1;33m\u001b[0m\u001b[0m\n\u001b[0m\u001b[0;32m     17\u001b[0m             \u001b[0mres\u001b[0m\u001b[1;33m.\u001b[0m\u001b[0mappend\u001b[0m\u001b[1;33m(\u001b[0m\u001b[0mx\u001b[0m\u001b[1;33m)\u001b[0m\u001b[1;33m\u001b[0m\u001b[1;33m\u001b[0m\u001b[0m\n\u001b[0;32m     18\u001b[0m \u001b[1;33m\u001b[0m\u001b[0m\n",
      "\u001b[1;31mAttributeError\u001b[0m: 'list' object has no attribute 'strip'"
     ]
    }
   ],
   "source": [
    "response = requests.get(\"https://www.whois.com/whois/\"+ips[1][0])\n",
    "soup = BeautifulSoup(response.content, 'html.parser')\n",
    "\n",
    "info = soup.find(id='registryData')\n",
    "\n",
    "\n",
    "find = (\"NetName\", \"NetRange\", \"OrgName\", \"Address\", \"City\", \"StateProv\", \"PostalCode\", \"Country\", \"RegDate\")\n",
    "infoList = info.text.split(\"\\n\")\n",
    "#infoList\n",
    "\n",
    "res = []\n",
    "\n",
    "for line in infoList:\n",
    "    for tag in find:\n",
    "        if tag in line:\n",
    "            x = line.strip().split(\":\")\n",
    "            res.append(x)\n",
    "            \n",
    "res\n"
   ]
  },
  {
   "cell_type": "code",
   "execution_count": null,
   "metadata": {},
   "outputs": [],
   "source": []
  }
 ],
 "metadata": {
  "kernelspec": {
   "display_name": "Python 3",
   "language": "python",
   "name": "python3"
  },
  "language_info": {
   "codemirror_mode": {
    "name": "ipython",
    "version": 3
   },
   "file_extension": ".py",
   "mimetype": "text/x-python",
   "name": "python",
   "nbconvert_exporter": "python",
   "pygments_lexer": "ipython3",
   "version": "3.7.4"
  }
 },
 "nbformat": 4,
 "nbformat_minor": 2
}

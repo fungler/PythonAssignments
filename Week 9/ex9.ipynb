{
 "cells": [
  {
   "cell_type": "code",
   "execution_count": 1,
   "metadata": {},
   "outputs": [
    {
     "data": {
      "text/plain": [
       "[('5.199.130.188', '5', '199', '130', '188'),\n",
       " ('162.247.74.217', '162', '247', '74', '217'),\n",
       " ('50.35.73.6', '50', '35', '73', '6'),\n",
       " ('89.163.239.216', '89', '163', '239', '216'),\n",
       " ('108.87.82.181', '108', '87', '82', '181'),\n",
       " ('216.151.180.191', '216', '151', '180', '191'),\n",
       " ('139.99.172.11', '139', '99', '172', '11'),\n",
       " ('217.170.205.107', '217', '170', '205', '107'),\n",
       " ('68.184.5.12', '68', '184', '5', '12'),\n",
       " ('185.107.47.171', '185', '107', '47', '171'),\n",
       " ('185.220.101.57', '185', '220', '101', '57'),\n",
       " ('185.220.102.4', '185', '220', '102', '4'),\n",
       " ('193.218.118.90', '193', '218', '118', '90'),\n",
       " ('199.249.230.69', '199', '249', '230', '69'),\n",
       " ('199.249.230.123', '199', '249', '230', '123'),\n",
       " ('185.220.101.25', '185', '220', '101', '25'),\n",
       " ('209.141.34.95', '209', '141', '34', '95'),\n",
       " ('213.179.54.190', '213', '179', '54', '190'),\n",
       " ('174.130.215.196', '174', '130', '215', '196'),\n",
       " ('185.220.101.6', '185', '220', '101', '6'),\n",
       " ('68.184.5.12', '68', '184', '5', '12'),\n",
       " ('199.249.230.69', '199', '249', '230', '69'),\n",
       " ('89.163.239.216', '89', '163', '239', '216')]"
      ]
     },
     "execution_count": 1,
     "metadata": {},
     "output_type": "execute_result"
    }
   ],
   "source": [
    "import requests\n",
    "import re\n",
    "from bs4 import BeautifulSoup\n",
    "import pymysql\n",
    "\n",
    "with open('ips.log', 'r') as fo:\n",
    "    log = fo.read()\n",
    "\n",
    "pattern = re.compile(r\";((\\d{1,3}).(\\d{1,3}).(\\d{1,3}).(\\d{1,3}));\")\n",
    "ips = pattern.findall(log)\n",
    "\n",
    "ips"
   ]
  },
  {
   "cell_type": "code",
   "execution_count": 12,
   "metadata": {},
   "outputs": [
    {
     "data": {
      "text/plain": [
       "{'NetRange': '162.247.72.0 - 162.247.75.255',\n",
       " 'NetName': 'CALYX-INSTITUTE-V4-1',\n",
       " 'RegDate': '2010-09-10',\n",
       " 'OrgName': 'The Calyx Institute',\n",
       " 'Address': 'Suite C660 / Unit 48',\n",
       " 'City': 'Brooklyn',\n",
       " 'StateProv': 'NY',\n",
       " 'PostalCode': '11232',\n",
       " 'Country': 'US'}"
      ]
     },
     "execution_count": 12,
     "metadata": {},
     "output_type": "execute_result"
    }
   ],
   "source": [
    "def listToDict(lst):\n",
    "    aye = {lst[i]: lst[i + 1] for i in range(0, len(lst), 2)}\n",
    "    return aye\n",
    "\n",
    "response = requests.get(\"https://www.whois.com/whois/\"+ips[1][0])\n",
    "soup = BeautifulSoup(response.content, 'html.parser')\n",
    "\n",
    "info = soup.find(id='registryData')\n",
    "\n",
    "\n",
    "find = (\"NetName\", \"NetRange\", \"OrgName\", \"Address\", \"City\", \"StateProv\", \"PostalCode\", \"Country\", \"RegDate\")\n",
    "infoList = info.text.split(\"\\n\")\n",
    "#infoList\n",
    "\n",
    "res = []\n",
    "\n",
    "for line in infoList:\n",
    "    for tag in find:\n",
    "        if tag in line:\n",
    "            x = line.strip().split(\":\")\n",
    "            res.append(x[0].strip())\n",
    "            res.append(x[1].strip())\n",
    "\n",
    "\n",
    "dictres = listToDict(res)\n",
    "dictres"
   ]
  },
  {
   "cell_type": "code",
   "execution_count": null,
   "metadata": {},
   "outputs": [],
   "source": [
    "con = pymysql.connect(user='dev', password='ax2', host='127.0.0.1', port=3306, db='pythonex9')\n",
    "query = 'INSERT INTO whois (ip, city, country, netname, organization, postalcode, street) VALUES (%(ip)s, %(city)s, %(country)s, %(netname)s, %(organization)s, %(postalcode)s, %(street)s)'\n",
    "\n",
    "with cnx.cursor() as cursor:\n",
    "    for registrant in registrants.values():\n",
    "        cursor.execute(query, registrant)\n",
    "\n",
    "cnx.commit()\n",
    "cnx.close()"
   ]
  }
 ],
 "metadata": {
  "kernelspec": {
   "display_name": "Python 3",
   "language": "python",
   "name": "python3"
  },
  "language_info": {
   "codemirror_mode": {
    "name": "ipython",
    "version": 3
   },
   "file_extension": ".py",
   "mimetype": "text/x-python",
   "name": "python",
   "nbconvert_exporter": "python",
   "pygments_lexer": "ipython3",
   "version": "3.7.4"
  }
 },
 "nbformat": 4,
 "nbformat_minor": 2
}
